{
 "cells": [
  {
   "cell_type": "markdown",
   "id": "a514b00d-12be-41f7-ab7d-56e42063f384",
   "metadata": {},
   "source": [
    "#### Q1.Suppose a child psychologist claims that the average time working mothers spend talking to their children is at least 11 minutes per day. You conduct a random sample of 1000 working mothers and find they spend an average of 11.5 minutes per day talking with their children. Assume prior research suggests the population standard deviation is 2.3 minutes.Conduct a test with a level of significance of alpha = 0.05."
   ]
  },
  {
   "cell_type": "code",
   "execution_count": 1,
   "id": "2041339b-8534-4301-824e-1cc660750023",
   "metadata": {},
   "outputs": [],
   "source": [
    "import scipy.stats as stats"
   ]
  },
  {
   "cell_type": "code",
   "execution_count": 2,
   "id": "2269b063-2f42-4cfc-b7d1-1762405217db",
   "metadata": {},
   "outputs": [],
   "source": [
    "# given data\n",
    "population_mean=11  # population mean under null hypothesis\n",
    "sample_size=1000    \n",
    "sample_mean=11.5\n",
    "population_std=2.3  # standard deviation of population\n",
    "alpha=0.05          # significance level"
   ]
  },
  {
   "cell_type": "code",
   "execution_count": 3,
   "id": "949e5433-0dc3-4c0a-8f5a-e94f85a56139",
   "metadata": {},
   "outputs": [],
   "source": [
    "# calculate z test statistics\n",
    "z_score=(sample_mean-population_mean)/(population_std/(sample_size**0.5))"
   ]
  },
  {
   "cell_type": "code",
   "execution_count": 4,
   "id": "a64cdad9-bd6c-460c-80fe-29c7c8df27a2",
   "metadata": {},
   "outputs": [],
   "source": [
    "# calculate the critical value\n",
    "critical_value=stats.norm.ppf(1-alpha)"
   ]
  },
  {
   "cell_type": "code",
   "execution_count": 5,
   "id": "a9b9cce7-ebdb-4f78-a5d3-abb1dde021de",
   "metadata": {},
   "outputs": [
    {
     "name": "stdout",
     "output_type": "stream",
     "text": [
      "Z_score :  6.874516652539955\n"
     ]
    }
   ],
   "source": [
    "# print the z score and critical value\n",
    "print(\"Z_score : \",z_score)"
   ]
  },
  {
   "cell_type": "code",
   "execution_count": 6,
   "id": "1e43f3f6-5b74-4800-ba17-19669a8c3fae",
   "metadata": {},
   "outputs": [
    {
     "name": "stdout",
     "output_type": "stream",
     "text": [
      "Critical_value : 1.6448536269514722\n"
     ]
    }
   ],
   "source": [
    "print(\"Critical_value :\",critical_value)"
   ]
  },
  {
   "cell_type": "code",
   "execution_count": 7,
   "id": "2740c077-9f81-4cac-8f27-da789dffb0c5",
   "metadata": {},
   "outputs": [
    {
     "name": "stdout",
     "output_type": "stream",
     "text": [
      "Reject null hypothesis\n"
     ]
    }
   ],
   "source": [
    "# compare the z score with the critical value and make a decision\n",
    "if z_score>critical_value:\n",
    "    print(\"Reject null hypothesis\")\n",
    "else:\n",
    "    print(\"Fail to reject null hypothesis\")"
   ]
  },
  {
   "cell_type": "markdown",
   "id": "f0a28486-a357-448c-9b68-f19aeeb7c79b",
   "metadata": {},
   "source": [
    "#### Q2. A coffee shop claims that their average wait time for customers is less than 5 minutes. To test this claim, a sample of 40 customers is taken, and their wait times are recorded. The sample mean wait time is found to be 4.6 minutes with a standard deviation of 0.8 minutes. Perform a hypothesis test at a significance level of 0.05 and determine whether there is enough evidence to support the coffee shop's claim.\r\n"
   ]
  },
  {
   "cell_type": "code",
   "execution_count": 8,
   "id": "8cde3144-a130-4c21-96d4-deed0f9a4e81",
   "metadata": {},
   "outputs": [],
   "source": [
    "import scipy.stats as stats"
   ]
  },
  {
   "cell_type": "code",
   "execution_count": 9,
   "id": "306501c6-1624-4800-86b6-4e05ad44eec6",
   "metadata": {},
   "outputs": [],
   "source": [
    "# given data\n",
    "population_mean=5   # population mean under null hypothesis\n",
    "sample_size=40\n",
    "sample_mean=4.6\n",
    "population_std=0.8  # standard deviation of population\n",
    "alpha=0.05           # significance level"
   ]
  },
  {
   "cell_type": "code",
   "execution_count": 10,
   "id": "141c7ce9-91f2-49a3-ac1a-fddf700c2952",
   "metadata": {},
   "outputs": [],
   "source": [
    "# calculate the z test statistics\n",
    "z_score=(sample_mean-population_mean)/(population_std/(sample_size**0.05))"
   ]
  },
  {
   "cell_type": "code",
   "execution_count": 11,
   "id": "d8563829-6fdd-401c-9027-b4c9e0c65a72",
   "metadata": {},
   "outputs": [],
   "source": [
    "# calculate the critical value\n",
    "critical_value=stats.norm.ppf(1-alpha)"
   ]
  },
  {
   "cell_type": "code",
   "execution_count": 12,
   "id": "82a7feae-d9e0-4171-9444-ca35dfec79b4",
   "metadata": {},
   "outputs": [
    {
     "name": "stdout",
     "output_type": "stream",
     "text": [
      "Z_score :  -0.601274801898418\n"
     ]
    }
   ],
   "source": [
    "# print the z_score and critical value\n",
    "print(\"Z_score : \",z_score)"
   ]
  },
  {
   "cell_type": "code",
   "execution_count": 13,
   "id": "0e6f5ed0-6c11-437c-9120-3f4e7ce1616d",
   "metadata": {},
   "outputs": [
    {
     "name": "stdout",
     "output_type": "stream",
     "text": [
      "Critical_value :  1.6448536269514722\n"
     ]
    }
   ],
   "source": [
    "print(\"Critical_value : \",critical_value)"
   ]
  },
  {
   "cell_type": "code",
   "execution_count": 14,
   "id": "1036f456-837f-4146-a93f-c1bf87d82496",
   "metadata": {},
   "outputs": [
    {
     "name": "stdout",
     "output_type": "stream",
     "text": [
      "Reject null hypothesis\n"
     ]
    }
   ],
   "source": [
    "# compare z score with critical value and make a decision\n",
    "if z_score<critical_value:\n",
    "    print(\"Reject null hypothesis\")\n",
    "else:\n",
    "    print(\"Fail to reject null hypothesis\")"
   ]
  },
  {
   "cell_type": "code",
   "execution_count": null,
   "id": "aec8ea31-371c-41ce-9e5d-ea819bb40d18",
   "metadata": {},
   "outputs": [],
   "source": []
  }
 ],
 "metadata": {
  "kernelspec": {
   "display_name": "Python 3 (ipykernel)",
   "language": "python",
   "name": "python3"
  },
  "language_info": {
   "codemirror_mode": {
    "name": "ipython",
    "version": 3
   },
   "file_extension": ".py",
   "mimetype": "text/x-python",
   "name": "python",
   "nbconvert_exporter": "python",
   "pygments_lexer": "ipython3",
   "version": "3.11.5"
  }
 },
 "nbformat": 4,
 "nbformat_minor": 5
}
