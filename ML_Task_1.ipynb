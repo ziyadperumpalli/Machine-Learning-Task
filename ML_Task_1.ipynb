{
 "cells": [
  {
   "cell_type": "code",
   "execution_count": 4,
   "id": "40967fc2-0e50-4e30-bf69-f39a2ef0cc39",
   "metadata": {},
   "outputs": [],
   "source": [
    "import pandas as pd\n",
    "import numpy as np\n",
    "import seaborn as sns\n",
    "import matplotlib.pyplot as plt"
   ]
  },
  {
   "cell_type": "code",
   "execution_count": 5,
   "id": "e756ba39-eddf-4c81-b7dd-1de2d7e61feb",
   "metadata": {},
   "outputs": [
    {
     "data": {
      "text/html": [
       "<div>\n",
       "<style scoped>\n",
       "    .dataframe tbody tr th:only-of-type {\n",
       "        vertical-align: middle;\n",
       "    }\n",
       "\n",
       "    .dataframe tbody tr th {\n",
       "        vertical-align: top;\n",
       "    }\n",
       "\n",
       "    .dataframe thead th {\n",
       "        text-align: right;\n",
       "    }\n",
       "</style>\n",
       "<table border=\"1\" class=\"dataframe\">\n",
       "  <thead>\n",
       "    <tr style=\"text-align: right;\">\n",
       "      <th></th>\n",
       "      <th>location</th>\n",
       "      <th>size</th>\n",
       "      <th>total_sqft</th>\n",
       "      <th>bath</th>\n",
       "      <th>price</th>\n",
       "      <th>bhk</th>\n",
       "      <th>price_per_sqft</th>\n",
       "    </tr>\n",
       "  </thead>\n",
       "  <tbody>\n",
       "    <tr>\n",
       "      <th>0</th>\n",
       "      <td>Electronic City Phase II</td>\n",
       "      <td>2 BHK</td>\n",
       "      <td>1056.0</td>\n",
       "      <td>2.0</td>\n",
       "      <td>39.07</td>\n",
       "      <td>2</td>\n",
       "      <td>3699</td>\n",
       "    </tr>\n",
       "    <tr>\n",
       "      <th>1</th>\n",
       "      <td>Chikka Tirupathi</td>\n",
       "      <td>4 Bedroom</td>\n",
       "      <td>2600.0</td>\n",
       "      <td>5.0</td>\n",
       "      <td>120.00</td>\n",
       "      <td>4</td>\n",
       "      <td>4615</td>\n",
       "    </tr>\n",
       "    <tr>\n",
       "      <th>2</th>\n",
       "      <td>Uttarahalli</td>\n",
       "      <td>3 BHK</td>\n",
       "      <td>1440.0</td>\n",
       "      <td>2.0</td>\n",
       "      <td>62.00</td>\n",
       "      <td>3</td>\n",
       "      <td>4305</td>\n",
       "    </tr>\n",
       "    <tr>\n",
       "      <th>3</th>\n",
       "      <td>Lingadheeranahalli</td>\n",
       "      <td>3 BHK</td>\n",
       "      <td>1521.0</td>\n",
       "      <td>3.0</td>\n",
       "      <td>95.00</td>\n",
       "      <td>3</td>\n",
       "      <td>6245</td>\n",
       "    </tr>\n",
       "    <tr>\n",
       "      <th>4</th>\n",
       "      <td>Kothanur</td>\n",
       "      <td>2 BHK</td>\n",
       "      <td>1200.0</td>\n",
       "      <td>2.0</td>\n",
       "      <td>51.00</td>\n",
       "      <td>2</td>\n",
       "      <td>4250</td>\n",
       "    </tr>\n",
       "    <tr>\n",
       "      <th>...</th>\n",
       "      <td>...</td>\n",
       "      <td>...</td>\n",
       "      <td>...</td>\n",
       "      <td>...</td>\n",
       "      <td>...</td>\n",
       "      <td>...</td>\n",
       "      <td>...</td>\n",
       "    </tr>\n",
       "    <tr>\n",
       "      <th>13195</th>\n",
       "      <td>Whitefield</td>\n",
       "      <td>5 Bedroom</td>\n",
       "      <td>3453.0</td>\n",
       "      <td>4.0</td>\n",
       "      <td>231.00</td>\n",
       "      <td>5</td>\n",
       "      <td>6689</td>\n",
       "    </tr>\n",
       "    <tr>\n",
       "      <th>13196</th>\n",
       "      <td>other</td>\n",
       "      <td>4 BHK</td>\n",
       "      <td>3600.0</td>\n",
       "      <td>5.0</td>\n",
       "      <td>400.00</td>\n",
       "      <td>4</td>\n",
       "      <td>11111</td>\n",
       "    </tr>\n",
       "    <tr>\n",
       "      <th>13197</th>\n",
       "      <td>Raja Rajeshwari Nagar</td>\n",
       "      <td>2 BHK</td>\n",
       "      <td>1141.0</td>\n",
       "      <td>2.0</td>\n",
       "      <td>60.00</td>\n",
       "      <td>2</td>\n",
       "      <td>5258</td>\n",
       "    </tr>\n",
       "    <tr>\n",
       "      <th>13198</th>\n",
       "      <td>Padmanabhanagar</td>\n",
       "      <td>4 BHK</td>\n",
       "      <td>4689.0</td>\n",
       "      <td>4.0</td>\n",
       "      <td>488.00</td>\n",
       "      <td>4</td>\n",
       "      <td>10407</td>\n",
       "    </tr>\n",
       "    <tr>\n",
       "      <th>13199</th>\n",
       "      <td>Doddathoguru</td>\n",
       "      <td>1 BHK</td>\n",
       "      <td>550.0</td>\n",
       "      <td>1.0</td>\n",
       "      <td>17.00</td>\n",
       "      <td>1</td>\n",
       "      <td>3090</td>\n",
       "    </tr>\n",
       "  </tbody>\n",
       "</table>\n",
       "<p>13200 rows × 7 columns</p>\n",
       "</div>"
      ],
      "text/plain": [
       "                       location       size  total_sqft  bath   price  bhk  \\\n",
       "0      Electronic City Phase II      2 BHK      1056.0   2.0   39.07    2   \n",
       "1              Chikka Tirupathi  4 Bedroom      2600.0   5.0  120.00    4   \n",
       "2                   Uttarahalli      3 BHK      1440.0   2.0   62.00    3   \n",
       "3            Lingadheeranahalli      3 BHK      1521.0   3.0   95.00    3   \n",
       "4                      Kothanur      2 BHK      1200.0   2.0   51.00    2   \n",
       "...                         ...        ...         ...   ...     ...  ...   \n",
       "13195                Whitefield  5 Bedroom      3453.0   4.0  231.00    5   \n",
       "13196                     other      4 BHK      3600.0   5.0  400.00    4   \n",
       "13197     Raja Rajeshwari Nagar      2 BHK      1141.0   2.0   60.00    2   \n",
       "13198           Padmanabhanagar      4 BHK      4689.0   4.0  488.00    4   \n",
       "13199              Doddathoguru      1 BHK       550.0   1.0   17.00    1   \n",
       "\n",
       "       price_per_sqft  \n",
       "0                3699  \n",
       "1                4615  \n",
       "2                4305  \n",
       "3                6245  \n",
       "4                4250  \n",
       "...               ...  \n",
       "13195            6689  \n",
       "13196           11111  \n",
       "13197            5258  \n",
       "13198           10407  \n",
       "13199            3090  \n",
       "\n",
       "[13200 rows x 7 columns]"
      ]
     },
     "execution_count": 5,
     "metadata": {},
     "output_type": "execute_result"
    }
   ],
   "source": [
    "# load the dataset\n",
    "df=pd.read_csv(r\"C:\\Users\\ziyad\\house_price.csv\")\n",
    "df"
   ]
  },
  {
   "cell_type": "code",
   "execution_count": 6,
   "id": "191d20d0-f5a9-4338-b05d-ff1deb939ab2",
   "metadata": {},
   "outputs": [
    {
     "name": "stdout",
     "output_type": "stream",
     "text": [
      "<class 'pandas.core.frame.DataFrame'>\n",
      "RangeIndex: 13200 entries, 0 to 13199\n",
      "Data columns (total 7 columns):\n",
      " #   Column          Non-Null Count  Dtype  \n",
      "---  ------          --------------  -----  \n",
      " 0   location        13200 non-null  object \n",
      " 1   size            13200 non-null  object \n",
      " 2   total_sqft      13200 non-null  float64\n",
      " 3   bath            13200 non-null  float64\n",
      " 4   price           13200 non-null  float64\n",
      " 5   bhk             13200 non-null  int64  \n",
      " 6   price_per_sqft  13200 non-null  int64  \n",
      "dtypes: float64(3), int64(2), object(2)\n",
      "memory usage: 722.0+ KB\n"
     ]
    }
   ],
   "source": [
    "# check the information about the dataframe\n",
    "df.info()"
   ]
  },
  {
   "cell_type": "code",
   "execution_count": 7,
   "id": "b4f2ac94-6d41-40ac-8265-dce232e4d971",
   "metadata": {},
   "outputs": [
    {
     "data": {
      "text/html": [
       "<div>\n",
       "<style scoped>\n",
       "    .dataframe tbody tr th:only-of-type {\n",
       "        vertical-align: middle;\n",
       "    }\n",
       "\n",
       "    .dataframe tbody tr th {\n",
       "        vertical-align: top;\n",
       "    }\n",
       "\n",
       "    .dataframe thead th {\n",
       "        text-align: right;\n",
       "    }\n",
       "</style>\n",
       "<table border=\"1\" class=\"dataframe\">\n",
       "  <thead>\n",
       "    <tr style=\"text-align: right;\">\n",
       "      <th></th>\n",
       "      <th>total_sqft</th>\n",
       "      <th>bath</th>\n",
       "      <th>price</th>\n",
       "      <th>bhk</th>\n",
       "      <th>price_per_sqft</th>\n",
       "    </tr>\n",
       "  </thead>\n",
       "  <tbody>\n",
       "    <tr>\n",
       "      <th>count</th>\n",
       "      <td>13200.000000</td>\n",
       "      <td>13200.000000</td>\n",
       "      <td>13200.000000</td>\n",
       "      <td>13200.000000</td>\n",
       "      <td>1.320000e+04</td>\n",
       "    </tr>\n",
       "    <tr>\n",
       "      <th>mean</th>\n",
       "      <td>1555.302783</td>\n",
       "      <td>2.691136</td>\n",
       "      <td>112.276178</td>\n",
       "      <td>2.800833</td>\n",
       "      <td>7.920337e+03</td>\n",
       "    </tr>\n",
       "    <tr>\n",
       "      <th>std</th>\n",
       "      <td>1237.323445</td>\n",
       "      <td>1.338915</td>\n",
       "      <td>149.175995</td>\n",
       "      <td>1.292843</td>\n",
       "      <td>1.067272e+05</td>\n",
       "    </tr>\n",
       "    <tr>\n",
       "      <th>min</th>\n",
       "      <td>1.000000</td>\n",
       "      <td>1.000000</td>\n",
       "      <td>8.000000</td>\n",
       "      <td>1.000000</td>\n",
       "      <td>2.670000e+02</td>\n",
       "    </tr>\n",
       "    <tr>\n",
       "      <th>25%</th>\n",
       "      <td>1100.000000</td>\n",
       "      <td>2.000000</td>\n",
       "      <td>50.000000</td>\n",
       "      <td>2.000000</td>\n",
       "      <td>4.267000e+03</td>\n",
       "    </tr>\n",
       "    <tr>\n",
       "      <th>50%</th>\n",
       "      <td>1275.000000</td>\n",
       "      <td>2.000000</td>\n",
       "      <td>71.850000</td>\n",
       "      <td>3.000000</td>\n",
       "      <td>5.438000e+03</td>\n",
       "    </tr>\n",
       "    <tr>\n",
       "      <th>75%</th>\n",
       "      <td>1672.000000</td>\n",
       "      <td>3.000000</td>\n",
       "      <td>120.000000</td>\n",
       "      <td>3.000000</td>\n",
       "      <td>7.317000e+03</td>\n",
       "    </tr>\n",
       "    <tr>\n",
       "      <th>max</th>\n",
       "      <td>52272.000000</td>\n",
       "      <td>40.000000</td>\n",
       "      <td>3600.000000</td>\n",
       "      <td>43.000000</td>\n",
       "      <td>1.200000e+07</td>\n",
       "    </tr>\n",
       "  </tbody>\n",
       "</table>\n",
       "</div>"
      ],
      "text/plain": [
       "         total_sqft          bath         price           bhk  price_per_sqft\n",
       "count  13200.000000  13200.000000  13200.000000  13200.000000    1.320000e+04\n",
       "mean    1555.302783      2.691136    112.276178      2.800833    7.920337e+03\n",
       "std     1237.323445      1.338915    149.175995      1.292843    1.067272e+05\n",
       "min        1.000000      1.000000      8.000000      1.000000    2.670000e+02\n",
       "25%     1100.000000      2.000000     50.000000      2.000000    4.267000e+03\n",
       "50%     1275.000000      2.000000     71.850000      3.000000    5.438000e+03\n",
       "75%     1672.000000      3.000000    120.000000      3.000000    7.317000e+03\n",
       "max    52272.000000     40.000000   3600.000000     43.000000    1.200000e+07"
      ]
     },
     "execution_count": 7,
     "metadata": {},
     "output_type": "execute_result"
    }
   ],
   "source": [
    "# summary statistics of the dataframe\n",
    "df.describe()"
   ]
  },
  {
   "cell_type": "markdown",
   "id": "2b65e93d-f6b8-4785-b43f-17c9d03a5f75",
   "metadata": {},
   "source": [
    "## Outlier detection and removal using mean function"
   ]
  },
  {
   "cell_type": "code",
   "execution_count": 8,
   "id": "a8f2cd9f-6330-49c1-8be7-e11f0e99ad74",
   "metadata": {},
   "outputs": [
    {
     "data": {
      "text/plain": [
       "7920.336742424242"
      ]
     },
     "execution_count": 8,
     "metadata": {},
     "output_type": "execute_result"
    }
   ],
   "source": [
    "# calculating mean and standard deviation\n",
    "mean_price_per_sqft=df[\"price_per_sqft\"].mean()\n",
    "mean_price_per_sqft"
   ]
  },
  {
   "cell_type": "code",
   "execution_count": 9,
   "id": "a8ec5633-fff5-499a-af97-9a7409ed5d38",
   "metadata": {},
   "outputs": [
    {
     "data": {
      "text/plain": [
       "106727.16032810845"
      ]
     },
     "execution_count": 9,
     "metadata": {},
     "output_type": "execute_result"
    }
   ],
   "source": [
    "std_dev_price_per_sqft=df[\"price_per_sqft\"].std()\n",
    "std_dev_price_per_sqft"
   ]
  },
  {
   "cell_type": "code",
   "execution_count": 10,
   "id": "ad355bf5-a5c7-4e6e-b2ed-20fbd8fe1523",
   "metadata": {},
   "outputs": [],
   "source": [
    "# define a threshold\n",
    "threshold=3"
   ]
  },
  {
   "cell_type": "code",
   "execution_count": 11,
   "id": "44c5b73a-c901-4e4c-b6a6-5abb01a04978",
   "metadata": {},
   "outputs": [],
   "source": [
    "# detect outliers\n",
    "outliers_mean=df[(df[\"price_per_sqft\"]<mean_price_per_sqft-threshold*std_dev_price_per_sqft)|\n",
    "(df[\"price_per_sqft\"]>mean_price_per_sqft+threshold*std_dev_price_per_sqft)]"
   ]
  },
  {
   "cell_type": "code",
   "execution_count": 12,
   "id": "381ea00e-8bbe-4ad4-9d2b-1acc015cddf3",
   "metadata": {},
   "outputs": [],
   "source": [
    "# remove outliers\n",
    "df_cleaned_mean=df[~df[\"price_per_sqft\"].isin(outliers_mean[\"price_per_sqft\"])]"
   ]
  },
  {
   "cell_type": "code",
   "execution_count": 13,
   "id": "d241db85-7fba-45e3-9dbe-aa0be47030dc",
   "metadata": {},
   "outputs": [
    {
     "name": "stdout",
     "output_type": "stream",
     "text": [
      "Number of outliers detected using mean function :  5\n"
     ]
    }
   ],
   "source": [
    "#print the number of outliers detected\n",
    "print(\"Number of outliers detected using mean function : \",len(outliers_mean))"
   ]
  },
  {
   "cell_type": "markdown",
   "id": "e7a3a3c4-ff73-462f-9ca8-9ba166182e7f",
   "metadata": {},
   "source": [
    "## Outlier detection and removal using percentile method"
   ]
  },
  {
   "cell_type": "code",
   "execution_count": 14,
   "id": "a782f7c9-77c7-4d86-b0e4-d8cf653d89cc",
   "metadata": {},
   "outputs": [
    {
     "data": {
      "text/plain": [
       "3107.8500000000004"
      ]
     },
     "execution_count": 14,
     "metadata": {},
     "output_type": "execute_result"
    }
   ],
   "source": [
    "# calculate lower and upper percentile values\n",
    "lower_percentile=df[\"price_per_sqft\"].quantile(0.05)\n",
    "lower_percentile"
   ]
  },
  {
   "cell_type": "code",
   "execution_count": 15,
   "id": "6eb7f3c6-60ed-4ac8-9a0c-5d2c23b7a862",
   "metadata": {},
   "outputs": [
    {
     "data": {
      "text/plain": [
       "15312.099999999984"
      ]
     },
     "execution_count": 15,
     "metadata": {},
     "output_type": "execute_result"
    }
   ],
   "source": [
    "upper_percentile=df[\"price_per_sqft\"].quantile(0.95)\n",
    "upper_percentile"
   ]
  },
  {
   "cell_type": "code",
   "execution_count": 16,
   "id": "78a85877-4493-4092-846e-a9f5245317cf",
   "metadata": {},
   "outputs": [],
   "source": [
    "# detect outliers\n",
    "outliers_percentile=df[(df[\"price_per_sqft\"]<lower_percentile)|(df[\"price_per_sqft\"]>upper_percentile)]"
   ]
  },
  {
   "cell_type": "code",
   "execution_count": 17,
   "id": "97491552-3d68-47e2-9cdd-bd33794fc07a",
   "metadata": {},
   "outputs": [],
   "source": [
    "# remove outliers\n",
    "df_cleaned_percentile=df[~df[\"price_per_sqft\"].isin(outliers_percentile[\"price_per_sqft\"])]"
   ]
  },
  {
   "cell_type": "code",
   "execution_count": 18,
   "id": "f4b311a2-9911-40a1-b618-21e5cfa23ccb",
   "metadata": {},
   "outputs": [
    {
     "name": "stdout",
     "output_type": "stream",
     "text": [
      "Number of outliers detected using percentile method :  1320\n"
     ]
    }
   ],
   "source": [
    "# print number of outliers detected\n",
    "print(\"Number of outliers detected using percentile method : \",len(outliers_percentile))"
   ]
  },
  {
   "cell_type": "markdown",
   "id": "bc929741-3fbb-40d8-909f-d7e3d3ce8a77",
   "metadata": {},
   "source": [
    "## Outlier detection and removal using IQR method"
   ]
  },
  {
   "cell_type": "code",
   "execution_count": 19,
   "id": "cf7d3f4d-9d2c-4bd5-90d8-edb8bb06f45f",
   "metadata": {},
   "outputs": [
    {
     "data": {
      "text/plain": [
       "4267.0"
      ]
     },
     "execution_count": 19,
     "metadata": {},
     "output_type": "execute_result"
    }
   ],
   "source": [
    "# calculate the first quartile\n",
    "q1=df[\"price_per_sqft\"].quantile(0.25)\n",
    "q1"
   ]
  },
  {
   "cell_type": "code",
   "execution_count": 20,
   "id": "c0d06571-c0f0-4b89-84fe-b9676b9bd073",
   "metadata": {},
   "outputs": [
    {
     "data": {
      "text/plain": [
       "7317.0"
      ]
     },
     "execution_count": 20,
     "metadata": {},
     "output_type": "execute_result"
    }
   ],
   "source": [
    "# calculate the third quartile\n",
    "q3=df[\"price_per_sqft\"].quantile(0.75)\n",
    "q3"
   ]
  },
  {
   "cell_type": "code",
   "execution_count": 21,
   "id": "5b63ec80-ee09-4b17-ad63-2c891d464052",
   "metadata": {},
   "outputs": [
    {
     "data": {
      "text/plain": [
       "3050.0"
      ]
     },
     "execution_count": 21,
     "metadata": {},
     "output_type": "execute_result"
    }
   ],
   "source": [
    "# calculate the inter quartile range\n",
    "IQR=q3-q1\n",
    "IQR"
   ]
  },
  {
   "cell_type": "code",
   "execution_count": 22,
   "id": "167ca109-675e-4276-88c5-9ad6b1745f72",
   "metadata": {},
   "outputs": [
    {
     "data": {
      "text/plain": [
       "-308.0"
      ]
     },
     "execution_count": 22,
     "metadata": {},
     "output_type": "execute_result"
    }
   ],
   "source": [
    "# define lower and upper bounds for outlier detection\n",
    "lower_bound=q1-1.5*IQR\n",
    "lower_bound"
   ]
  },
  {
   "cell_type": "code",
   "execution_count": 23,
   "id": "372bfc41-f8ee-45fa-91e9-ffcc233df4ab",
   "metadata": {},
   "outputs": [
    {
     "data": {
      "text/plain": [
       "11892.0"
      ]
     },
     "execution_count": 23,
     "metadata": {},
     "output_type": "execute_result"
    }
   ],
   "source": [
    "upper_bound=q3+1.5*IQR\n",
    "upper_bound"
   ]
  },
  {
   "cell_type": "code",
   "execution_count": 24,
   "id": "8c8cbd7a-2f29-498f-a926-0f564357b7ac",
   "metadata": {},
   "outputs": [],
   "source": [
    "# detect outliers\n",
    "outliers_IQR=df[(df[\"price_per_sqft\"]<lower_bound)|(df[\"price_per_sqft\"]>upper_bound)]"
   ]
  },
  {
   "cell_type": "code",
   "execution_count": 25,
   "id": "d170d944-f911-45dd-ac56-fb48e261ec89",
   "metadata": {},
   "outputs": [],
   "source": [
    "# remove outliers\n",
    "df_cleaned_IQR=df[~df[\"price_per_sqft\"].isin(outliers_IQR[\"price_per_sqft\"])]"
   ]
  },
  {
   "cell_type": "code",
   "execution_count": 26,
   "id": "c290e63b-4544-4697-bbc8-72e5fff0270a",
   "metadata": {},
   "outputs": [
    {
     "name": "stdout",
     "output_type": "stream",
     "text": [
      "Number of outliers detected by IQR method :  1265\n"
     ]
    }
   ],
   "source": [
    "# print number of outliers detected\n",
    "print(\"Number of outliers detected by IQR method : \",len(outliers_IQR))"
   ]
  },
  {
   "cell_type": "markdown",
   "id": "f1f14169-41bb-400c-9b2b-064ac769c956",
   "metadata": {},
   "source": [
    "## Outlier detection and removal using zscore method"
   ]
  },
  {
   "cell_type": "code",
   "execution_count": 27,
   "id": "fbf80b3f-9f2d-4fb9-9255-06a872c4962a",
   "metadata": {},
   "outputs": [],
   "source": [
    "from scipy.stats import zscore"
   ]
  },
  {
   "cell_type": "code",
   "execution_count": 28,
   "id": "8255ff19-3e0f-483f-b078-aaee0e8f4bc9",
   "metadata": {},
   "outputs": [
    {
     "data": {
      "text/html": [
       "<div>\n",
       "<style scoped>\n",
       "    .dataframe tbody tr th:only-of-type {\n",
       "        vertical-align: middle;\n",
       "    }\n",
       "\n",
       "    .dataframe tbody tr th {\n",
       "        vertical-align: top;\n",
       "    }\n",
       "\n",
       "    .dataframe thead th {\n",
       "        text-align: right;\n",
       "    }\n",
       "</style>\n",
       "<table border=\"1\" class=\"dataframe\">\n",
       "  <thead>\n",
       "    <tr style=\"text-align: right;\">\n",
       "      <th></th>\n",
       "      <th>location</th>\n",
       "      <th>size</th>\n",
       "      <th>total_sqft</th>\n",
       "      <th>bath</th>\n",
       "      <th>price</th>\n",
       "      <th>bhk</th>\n",
       "      <th>price_per_sqft</th>\n",
       "      <th>z_score</th>\n",
       "    </tr>\n",
       "  </thead>\n",
       "  <tbody>\n",
       "    <tr>\n",
       "      <th>0</th>\n",
       "      <td>Electronic City Phase II</td>\n",
       "      <td>2 BHK</td>\n",
       "      <td>1056.0</td>\n",
       "      <td>2.0</td>\n",
       "      <td>39.07</td>\n",
       "      <td>2</td>\n",
       "      <td>3699</td>\n",
       "      <td>-0.039554</td>\n",
       "    </tr>\n",
       "    <tr>\n",
       "      <th>1</th>\n",
       "      <td>Chikka Tirupathi</td>\n",
       "      <td>4 Bedroom</td>\n",
       "      <td>2600.0</td>\n",
       "      <td>5.0</td>\n",
       "      <td>120.00</td>\n",
       "      <td>4</td>\n",
       "      <td>4615</td>\n",
       "      <td>-0.030971</td>\n",
       "    </tr>\n",
       "    <tr>\n",
       "      <th>2</th>\n",
       "      <td>Uttarahalli</td>\n",
       "      <td>3 BHK</td>\n",
       "      <td>1440.0</td>\n",
       "      <td>2.0</td>\n",
       "      <td>62.00</td>\n",
       "      <td>3</td>\n",
       "      <td>4305</td>\n",
       "      <td>-0.033876</td>\n",
       "    </tr>\n",
       "    <tr>\n",
       "      <th>3</th>\n",
       "      <td>Lingadheeranahalli</td>\n",
       "      <td>3 BHK</td>\n",
       "      <td>1521.0</td>\n",
       "      <td>3.0</td>\n",
       "      <td>95.00</td>\n",
       "      <td>3</td>\n",
       "      <td>6245</td>\n",
       "      <td>-0.015698</td>\n",
       "    </tr>\n",
       "    <tr>\n",
       "      <th>4</th>\n",
       "      <td>Kothanur</td>\n",
       "      <td>2 BHK</td>\n",
       "      <td>1200.0</td>\n",
       "      <td>2.0</td>\n",
       "      <td>51.00</td>\n",
       "      <td>2</td>\n",
       "      <td>4250</td>\n",
       "      <td>-0.034391</td>\n",
       "    </tr>\n",
       "  </tbody>\n",
       "</table>\n",
       "</div>"
      ],
      "text/plain": [
       "                   location       size  total_sqft  bath   price  bhk  \\\n",
       "0  Electronic City Phase II      2 BHK      1056.0   2.0   39.07    2   \n",
       "1          Chikka Tirupathi  4 Bedroom      2600.0   5.0  120.00    4   \n",
       "2               Uttarahalli      3 BHK      1440.0   2.0   62.00    3   \n",
       "3        Lingadheeranahalli      3 BHK      1521.0   3.0   95.00    3   \n",
       "4                  Kothanur      2 BHK      1200.0   2.0   51.00    2   \n",
       "\n",
       "   price_per_sqft   z_score  \n",
       "0            3699 -0.039554  \n",
       "1            4615 -0.030971  \n",
       "2            4305 -0.033876  \n",
       "3            6245 -0.015698  \n",
       "4            4250 -0.034391  "
      ]
     },
     "execution_count": 28,
     "metadata": {},
     "output_type": "execute_result"
    }
   ],
   "source": [
    "# calculate z scores\n",
    "df[\"z_score\"]=zscore(df[\"price_per_sqft\"])\n",
    "df.head()"
   ]
  },
  {
   "cell_type": "code",
   "execution_count": 29,
   "id": "f72f82b0-1e62-4c12-a6a6-327ac0a64718",
   "metadata": {},
   "outputs": [],
   "source": [
    "# define threshold\n",
    "threshold=3"
   ]
  },
  {
   "cell_type": "code",
   "execution_count": 30,
   "id": "0ee59646-6019-430c-8ee9-96a496a6dc8b",
   "metadata": {},
   "outputs": [],
   "source": [
    "# outlier detection\n",
    "outliers_zscore=df[(df[\"price_per_sqft\"]>threshold)|(df[\"price_per_sqft\"]<-threshold)]"
   ]
  },
  {
   "cell_type": "code",
   "execution_count": 31,
   "id": "c39e62f7-8948-461b-b27e-61b12712de3c",
   "metadata": {},
   "outputs": [],
   "source": [
    "# remove outliers\n",
    "df_cleaned_zscore=df[~df[\"price_per_sqft\"].isin(outliers_zscore[\"price_per_sqft\"])]"
   ]
  },
  {
   "cell_type": "code",
   "execution_count": 32,
   "id": "cf9eff80-8dbb-472d-92ee-b1070de5282d",
   "metadata": {},
   "outputs": [
    {
     "name": "stdout",
     "output_type": "stream",
     "text": [
      "Number of outliers detected using Zscore method :  13200\n"
     ]
    }
   ],
   "source": [
    "# print the number of outliers detected\n",
    "print(\"Number of outliers detected using Zscore method : \",len(outliers_zscore))"
   ]
  },
  {
   "cell_type": "markdown",
   "id": "4df86b82-956d-4b50-ac94-3a2f726e77db",
   "metadata": {},
   "source": [
    "## Boxplot for all numeric columns"
   ]
  },
  {
   "cell_type": "code",
   "execution_count": 33,
   "id": "1e057d35-2c9d-4b28-bc80-501934a84ee7",
   "metadata": {},
   "outputs": [
    {
     "data": {
      "image/png": "[encoded data removed]",
      "text/plain": [
       "<Figure size 1200x800 with 1 Axes>"
      ]
     },
     "metadata": {},
     "output_type": "display_data"
    }
   ],
   "source": [
    "df.boxplot(figsize=(12, 8))\n",
    "plt.title('Boxplot for Numeric Columns')\n",
    "plt.xticks(rotation=45)\n",
    "plt.show()"
   ]
  },
  {
   "cell_type": "markdown",
   "id": "6a2e1191-7060-41be-a84a-8cdaaf570a75",
   "metadata": {},
   "source": [
    "## Histplot for price_per_sqft column"
   ]
  },
  {
   "cell_type": "code",
   "execution_count": null,
   "id": "5e852c21-a522-4712-98d0-69b95221a878",
   "metadata": {},
   "outputs": [
    {
     "name": "stderr",
     "output_type": "stream",
     "text": [
      "C:\\Users\\ziyad\\anaconda3\\Lib\\site-packages\\seaborn\\_oldcore.py:1119: FutureWarning: use_inf_as_na option is deprecated and will be removed in a future version. Convert inf values to NaN before operating instead.\n",
      "  with pd.option_context('mode.use_inf_as_na', True):\n"
     ]
    }
   ],
   "source": [
    "# Create a histogram plot for the \"price per sqft\" column\n",
    "plt.figure(figsize=(8, 6))\n",
    "sns.histplot(df['price_per_sqft'])\n",
    "plt.title('Histogram of Price per Sqft')\n",
    "plt.xlabel('Price per Sqft')\n",
    "plt.ylabel('Frequency')\n",
    "plt.show()"
   ]
  },
  {
   "cell_type": "markdown",
   "id": "d58e8d17-4562-42af-b0fb-8adba282b5ee",
   "metadata": {},
   "source": [
    "## Check correlation between all numeric columns and plot heatmap"
   ]
  },
  {
   "cell_type": "code",
   "execution_count": null,
   "id": "5f82a6d5-0c78-48ee-8076-aaec4e5743e9",
   "metadata": {},
   "outputs": [],
   "source": [
    "# Select only numeric columns\n",
    "numeric_columns = df.select_dtypes(include=['number'])\n",
    "\n",
    "# Calculate the correlation matrix\n",
    "correlation_matrix = numeric_columns.corr()\n",
    "\n",
    "# Plot the heatmap\n",
    "plt.figure(figsize=(10, 8))\n",
    "sns.heatmap(correlation_matrix, annot=True, cmap='coolwarm', fmt=\".2f\", square=True)\n",
    "plt.title('Correlation Heatmap of Numerical Columns')\n",
    "plt.show()"
   ]
  },
  {
   "cell_type": "markdown",
   "id": "d3a7c1cd-c677-443d-8af9-d27c00346a24",
   "metadata": {},
   "source": [
    "## Scatterplot between variables to check correltaion between them"
   ]
  },
  {
   "cell_type": "code",
   "execution_count": null,
   "id": "b90a8387-0f2b-49aa-b01d-0c5120e383ab",
   "metadata": {},
   "outputs": [],
   "source": [
    "# Create a pairplot\n",
    "sns.pairplot(df, diag_kind='kde')\n",
    "plt.suptitle('Pairplot of Numerical Columns')\n",
    "plt.show()"
   ]
  },
  {
   "cell_type": "code",
   "execution_count": null,
   "id": "350e99c8-1c09-4a28-b616-630245c9da7a",
   "metadata": {},
   "outputs": [],
   "source": []
  },
  {
   "cell_type": "code",
   "execution_count": null,
   "id": "eef3be2d-d172-4ff0-a986-430d5dde7e10",
   "metadata": {},
   "outputs": [],
   "source": []
  }
 ],
 "metadata": {
  "kernelspec": {
   "display_name": "Python 3 (ipykernel)",
   "language": "python",
   "name": "python3"
  },
  "language_info": {
   "codemirror_mode": {
    "name": "ipython",
    "version": 3
   },
   "file_extension": ".py",
   "mimetype": "text/x-python",
   "name": "python",
   "nbconvert_exporter": "python",
   "pygments_lexer": "ipython3",
   "version": "3.11.5"
  }
 },
 "nbformat": 4,
 "nbformat_minor": 5
}
